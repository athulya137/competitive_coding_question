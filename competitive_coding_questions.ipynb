{
  "nbformat": 4,
  "nbformat_minor": 0,
  "metadata": {
    "colab": {
      "provenance": [],
      "authorship_tag": "ABX9TyOxSt9btPvSpNo1xVhzt9j9",
      "include_colab_link": true
    },
    "kernelspec": {
      "name": "python3",
      "display_name": "Python 3"
    },
    "language_info": {
      "name": "python"
    }
  },
  "cells": [
    {
      "cell_type": "markdown",
      "metadata": {
        "id": "view-in-github",
        "colab_type": "text"
      },
      "source": [
        "<a href=\"https://colab.research.google.com/github/athulya137/competitive_coding_question/blob/main/competitive_coding_questions.ipynb\" target=\"_parent\"><img src=\"https://colab.research.google.com/assets/colab-badge.svg\" alt=\"Open In Colab\"/></a>"
      ]
    },
    {
      "cell_type": "code",
      "execution_count": 1,
      "metadata": {
        "id": "90UpmOrn9gIh"
      },
      "outputs": [],
      "source": [
        "# Problem Statement\n",
        "# Write a program that, given a number n from STDIN, prints out the factorial of n to STDOUT:\n",
        "\n",
        "# If n is 0, n factorial is 1\n",
        "# n! is not defined for negative numbers."
      ]
    },
    {
      "cell_type": "code",
      "source": [
        "from logging import FATAL\n",
        "def factorial(n):\n",
        "  if n<0:\n",
        "    print(\"Factorial is not defined for negative numbers!!\")\n",
        "  elif n==0 | n==1:\n",
        "    return 1\n",
        "  else:\n",
        "    fact=1\n",
        "    for i in range(2,n+1):\n",
        "      fact*=i\n",
        "    return fact\n",
        "\n",
        "# input using STDIN\n",
        "n=int(input())\n",
        "print(factorial(n))"
      ],
      "metadata": {
        "colab": {
          "base_uri": "https://localhost:8080/"
        },
        "id": "5PNTJc6Q9rvm",
        "outputId": "525073ba-9909-4729-e49c-b26363faab01"
      },
      "execution_count": 6,
      "outputs": [
        {
          "output_type": "stream",
          "name": "stdout",
          "text": [
            "5\n",
            "120\n"
          ]
        }
      ]
    },
    {
      "cell_type": "code",
      "source": [],
      "metadata": {
        "id": "uz1O4KiS-ksq"
      },
      "execution_count": null,
      "outputs": []
    }
  ]
}