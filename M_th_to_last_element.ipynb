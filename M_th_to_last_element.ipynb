{
  "nbformat": 4,
  "nbformat_minor": 0,
  "metadata": {
    "colab": {
      "provenance": [],
      "authorship_tag": "ABX9TyNPwNvIucM7dLLKAnrPDJQs",
      "include_colab_link": true
    },
    "kernelspec": {
      "name": "python3",
      "display_name": "Python 3"
    },
    "language_info": {
      "name": "python"
    }
  },
  "cells": [
    {
      "cell_type": "markdown",
      "metadata": {
        "id": "view-in-github",
        "colab_type": "text"
      },
      "source": [
        "<a href=\"https://colab.research.google.com/github/athulya137/competitive_coding_question/blob/main/M_th_to_last_element.ipynb\" target=\"_parent\"><img src=\"https://colab.research.google.com/assets/colab-badge.svg\" alt=\"Open In Colab\"/></a>"
      ]
    },
    {
      "cell_type": "code",
      "execution_count": 1,
      "metadata": {
        "id": "ndjbtsYcQk1e"
      },
      "outputs": [],
      "source": [
        "# For this question, you will write a program that, given a positive integer M and a list of integers L,\n",
        "# outputs the list element M links away from the end of the list. For this program, we will use 1-indexing. That means mth_to_last(1) is the \"1st-to-last\" element,\n",
        "# or simply the last element in the list.\n",
        "# If you are given an invalid index, output NIL instead.\n",
        "\n",
        "# Examples\n",
        "# Input:\n",
        "# 4\n",
        "# 10 200 3 40000 5\n",
        "# Output:  200"
      ]
    },
    {
      "cell_type": "code",
      "source": [
        "def mth_to_last(m,l):\n",
        "  # check if m is valid index\n",
        "  if m > len(l) or m<=0 :\n",
        "    return \"NIL\"\n",
        "  # return mth element from end\n",
        "  return l[-m]\n",
        "\n",
        "m = int(input(\"Enter the value of m:\"))\n",
        "l = list(map(int,input(\"Enter the list of integers separated by spaces:\").split()))\n",
        "print(mth_to_last(m,l))\n"
      ],
      "metadata": {
        "colab": {
          "base_uri": "https://localhost:8080/"
        },
        "id": "jRmTKetlR6-t",
        "outputId": "0bd9a197-6afd-4fbe-d43d-14b4a7a13b88"
      },
      "execution_count": 17,
      "outputs": [
        {
          "output_type": "stream",
          "name": "stdout",
          "text": [
            "Enter the value of m:9\n",
            "Enter the list of integers separated by spaces:4 67 54\n",
            "NIL\n"
          ]
        }
      ]
    },
    {
      "cell_type": "code",
      "source": [
        "# hackerrank sol using stdin\n",
        "#def mth_to_last(m,l):\n",
        "    #if m >len(l)  or m<=0:\n",
        "        #return \"NIL\"\n",
        "    #return l[-m]\n",
        "#import sys\n",
        "#input_data = sys.stdin.read().splitlines()\n",
        "#m = int(input_data[0])  # The first line is the value of M\n",
        "#l = list(map(int, input_data[1].split()))\n",
        "#print(mth_to_last(m,l))"
      ],
      "metadata": {
        "id": "zkIpNnFVU_di"
      },
      "execution_count": 20,
      "outputs": []
    },
    {
      "cell_type": "code",
      "source": [],
      "metadata": {
        "id": "t1ptNPPmYmsY"
      },
      "execution_count": null,
      "outputs": []
    }
  ]
}