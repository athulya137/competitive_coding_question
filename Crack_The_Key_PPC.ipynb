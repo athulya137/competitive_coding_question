{
  "nbformat": 4,
  "nbformat_minor": 0,
  "metadata": {
    "colab": {
      "provenance": [],
      "authorship_tag": "ABX9TyOMtby3olzx70TJC4GjVleo",
      "include_colab_link": true
    },
    "kernelspec": {
      "name": "python3",
      "display_name": "Python 3"
    },
    "language_info": {
      "name": "python"
    }
  },
  "cells": [
    {
      "cell_type": "markdown",
      "metadata": {
        "id": "view-in-github",
        "colab_type": "text"
      },
      "source": [
        "<a href=\"https://colab.research.google.com/github/athulya137/competitive_coding_question/blob/main/Crack_The_Key_PPC.ipynb\" target=\"_parent\"><img src=\"https://colab.research.google.com/assets/colab-badge.svg\" alt=\"Open In Colab\"/></a>"
      ]
    },
    {
      "cell_type": "code",
      "execution_count": 1,
      "metadata": {
        "id": "Nruq3xF3BRY2"
      },
      "outputs": [],
      "source": [
        "#Convert the given string input with the help of key and hence print the desired string at the output.\n",
        "#Please Note that in case of error (unexpected input) your program should print \"ERROR\" (without \" \") (Hint: See constraints carefully)\n",
        "#Input Format:\n",
        "#line 1 contains a string\n",
        "#line 2 contains the Key (integer value)\n",
        "\n",
        "#Constraints:\n",
        "#0 < string < 100\n",
        "#0 <= key <= 25\n",
        "\n",
        "#Output Format\n",
        "#single line output containing the desired string\n",
        "\n",
        "#Sample Input :\n",
        "#APPLE\n",
        "#3\n",
        "#Sample Output :\n",
        "#DSSOH\n"
      ]
    },
    {
      "cell_type": "code",
      "source": [
        "def encrypt_string(input_string, key):\n",
        "    # Check constraints for string and key\n",
        "    if not (0 < len(input_string) < 100) or not (0 <= key <= 25):\n",
        "        return \"ERROR\"\n",
        "\n",
        "    # Initialize an empty result string\n",
        "    result = \"\"\n",
        "\n",
        "    # Process each character in the input string\n",
        "    for char in input_string:\n",
        "        # Check if the character is an uppercase alphabet\n",
        "        if 'A' <= char <= 'Z':\n",
        "            # Shift character by the key and wrap around using modulo\n",
        "            new_char = chr(((ord(char) - ord('A') + key) % 26) + ord('A'))\n",
        "            result += new_char\n",
        "        else:\n",
        "            # If the character is not a valid uppercase letter, return error\n",
        "            return \"ERROR\"\n",
        "\n",
        "    return result\n",
        "\n",
        "# Take inputs\n",
        "input_string = input().strip()\n",
        "key = int(input().strip())\n",
        "\n",
        "# Output the result\n",
        "print(encrypt_string(input_string, key))\n"
      ],
      "metadata": {
        "colab": {
          "base_uri": "https://localhost:8080/"
        },
        "id": "dwNKbfoPIpZb",
        "outputId": "d5fcd973-28a1-40af-a2e1-58ea658bafef"
      },
      "execution_count": 3,
      "outputs": [
        {
          "output_type": "stream",
          "name": "stdout",
          "text": [
            "APPLE\n",
            "3\n",
            "DSSOH\n"
          ]
        }
      ]
    },
    {
      "cell_type": "code",
      "source": [],
      "metadata": {
        "id": "ktcfJalfIwJj"
      },
      "execution_count": null,
      "outputs": []
    }
  ]
}